{
 "cells": [
  {
   "cell_type": "markdown",
   "id": "06c091d3-c826-4a0f-9f62-53959ab5fb61",
   "metadata": {},
   "source": [
    "Q1. What is multithreading in python? Why is it used? Name the module used to handle threads in python."
   ]
  },
  {
   "cell_type": "markdown",
   "id": "2b06bde5-f119-470a-81c3-b4eb6ca23093",
   "metadata": {},
   "source": [
    "Multithreading in Python refers to the ability of a program to execute multiple threads of execution concurrently. In other words, it allows a program to perform multiple tasks simultaneously. Each thread runs independently and shares the same memory space and resources of the parent process.\n",
    "\n",
    "Multithreading is used to improve the performance of a program by utilizing the available resources more efficiently. It is especially useful in programs that involve input/output (I/O) operations or when multiple tasks need to be performed simultaneously.\n",
    "\n",
    "The module used to handle threads in Python is called \"threading\". This module provides a simple way to create and manage threads in Python. It allows you to create new threads, start them, join them, and control their behavior. It also provides synchronization primitives like locks, events, and semaphores, which can be used to coordinate the behavior of multiple threads.\n",
    "\n"
   ]
  },
  {
   "cell_type": "markdown",
   "id": "2b38ab0f-f5c3-4f4f-9260-116e26f7087e",
   "metadata": {},
   "source": [
    "Q2. Why threading module used? Write the use of the following functions\n",
    "1.activeCount()\n",
    "2.currentThread()\n",
    "3.enumerate()"
   ]
  },
  {
   "cell_type": "markdown",
   "id": "ecdb5084-e73b-4a47-9640-671b1fa2f50f",
   "metadata": {},
   "source": [
    "The threading module in Python is used to implement multithreading in a program. It provides a way to create and manage threads in Python, allowing a program to execute multiple threads of execution concurrently. The main uses of the threading module are:\n",
    "\n",
    "1.To improve the performance of a program by utilizing the available resources more efficiently.\n",
    "2.To execute multiple tasks simultaneously.\n",
    "3.To avoid blocking the main thread of a program during I/O operations or time-consuming tasks.\n",
    "\n",
    "Now, let's discuss the following functions provided by the threading module:\n",
    "\n",
    "1.activeCount(): This function returns the number of Thread objects that are active in the current Python interpreter. An active thread is a thread that has been started but has not yet been joined. This function is useful for debugging and for monitoring the status of threads in a program.\n",
    "\n",
    "2.currentThread(): This function returns a reference to the current Thread object. The current thread is the thread that is currently executing the Python code. This function is useful when you need to get information about the current thread, such as its name or ID.\n",
    "\n",
    "3.enumerate(): This function returns a list of all Thread objects that are active in the current Python interpreter. This function is useful for debugging and for monitoring the status of threads in a program. The returned list includes the main thread and all the active threads that have been started but have not yet been joined. Each thread in the list is represented by a Thread object.\n",
    "\n",
    "\n",
    "\n",
    "\n",
    "\n"
   ]
  },
  {
   "cell_type": "markdown",
   "id": "12ba07e1-ae21-4190-bedf-7fc7977d1c3c",
   "metadata": {},
   "source": [
    "Q4.Write a python program to create two threads. Thread one must print the list of squares and thread two must print the list of cubes."
   ]
  },
  {
   "cell_type": "markdown",
   "id": "a4dd12a7-14fe-4be4-96c3-97f2259551a1",
   "metadata": {},
   "source": [
    "Here's a Python program that creates two threads, with one thread printing the list of squares and the other thread printing the list of cubes:"
   ]
  },
  {
   "cell_type": "code",
   "execution_count": 1,
   "id": "d0066354-05fa-495e-bc8f-1dc3253a4c5e",
   "metadata": {},
   "outputs": [
    {
     "name": "stdout",
     "output_type": "stream",
     "text": [
      "Square of 1 = 1\n",
      "Square of 2 = 4\n",
      "Square of 3 = 9\n",
      "Square of 4 = 16\n",
      "Square of 5 = 25\n",
      "Square of 6 = 36\n",
      "Square of 7 = 49\n",
      "Square of 8 = 64\n",
      "Square of 9 = 81\n",
      "Square of 10 = 100\n",
      "Cube of 1 = 1\n",
      "Cube of 2 = 8\n",
      "Cube of 3 = 27\n",
      "Cube of 4 = 64\n",
      "Cube of 5 = 125\n",
      "Cube of 6 = 216\n",
      "Cube of 7 = 343\n",
      "Cube of 8 = 512\n",
      "Cube of 9 = 729\n",
      "Cube of 10 = 1000\n",
      "Done!\n"
     ]
    }
   ],
   "source": [
    "import threading\n",
    "\n",
    "def print_squares():\n",
    "    for i in range(1, 11):\n",
    "        print(f\"Square of {i} = {i*i}\")\n",
    "\n",
    "def print_cubes():\n",
    "    for i in range(1, 11):\n",
    "        print(f\"Cube of {i} = {i*i*i}\")\n",
    "\n",
    "if __name__ == \"__main__\":\n",
    "    t1 = threading.Thread(target=print_squares)\n",
    "    t2 = threading.Thread(target=print_cubes)\n",
    "\n",
    "    t1.start()\n",
    "    t2.start()\n",
    "\n",
    "    t1.join()\n",
    "    t2.join()\n",
    "\n",
    "    print(\"Done!\")\n"
   ]
  },
  {
   "cell_type": "markdown",
   "id": "fafc0f36-0dbb-4bcc-b411-08eacac44fed",
   "metadata": {},
   "source": [
    "In this program, we define two functions print_squares() and print_cubes(), which each print the square or cube of the numbers 1 through 10. We then create two threads, t1 and t2, which call these functions. We start both threads using start(), and then use join() to wait for them to finish before printing \"Done!\" at the end."
   ]
  },
  {
   "cell_type": "markdown",
   "id": "6539aebd-56b7-4d23-ad56-ae74f8922aff",
   "metadata": {},
   "source": [
    "Q5.State advantages and disadvantages of multithreading"
   ]
  },
  {
   "cell_type": "markdown",
   "id": "a26f1107-3ab3-42bc-9fe6-f0f97c2cf91d",
   "metadata": {},
   "source": [
    "Advantages:\n",
    "\n",
    "1.Increased efficiency: Multithreading allows a program to make full use of available system resources by executing multiple tasks simultaneously. This can lead to significant improvements in overall program performance and reduced execution time.\n",
    "\n",
    "2.Enhanced responsiveness: By allowing tasks to execute concurrently, multithreading can help prevent a program from becoming unresponsive or \"hanging\" when performing resource-intensive tasks.\n",
    "\n",
    "3.Simplified programming: In some cases, multithreading can simplify programming by allowing developers to break complex tasks into smaller, more manageable pieces that can be executed independently.\n",
    "\n",
    "4.Resource sharing: Multithreading can help reduce memory usage and other system resources by allowing multiple threads to share resources such as memory, files, and network connections.\n",
    "\n",
    "Disadvantages:\n",
    "\n",
    "1.Complexity: Multithreaded programming is often more complex than single-threaded programming due to the need for synchronization and coordination between threads.\n",
    "\n",
    "2.Difficult to debug: Multithreading can make it more difficult to debug a program due to the added complexity of multiple threads executing simultaneously.\n",
    "\n",
    "3.Increased overhead: Multithreading can add additional overhead to a program due to the need for thread creation, synchronization, and communication between threads.\n",
    "\n",
    "4.Race conditions: Multithreading can introduce race conditions where two or more threads are accessing shared resources concurrently, leading to unexpected results or errors.\n",
    "\n",
    "5.Deadlocks: Multithreading can also introduce deadlocks, where two or more threads are waiting for resources held by the other, resulting in a \"deadlocked\" state where no progress can be made."
   ]
  },
  {
   "cell_type": "markdown",
   "id": "dc70779a-1b6e-42a1-aa73-a9c2c81adff7",
   "metadata": {},
   "source": [
    "Q6.Explain deadlocks and race conditions."
   ]
  },
  {
   "cell_type": "markdown",
   "id": "0476ecda-1848-4216-ac50-8994aaca2f08",
   "metadata": {},
   "source": [
    "Deadlocks and race conditions are two common issues that can occur in multithreaded programming. Here's an explanation of each:\n",
    "\n",
    "1.Deadlocks: A deadlock occurs when two or more threads are blocked and waiting for each other to release resources that they need in order to proceed. This can result in a situation where all threads are blocked, unable to continue executing, and the program appears to be \"stuck\". Deadlocks typically occur when threads are accessing shared resources, such as memory or files, and are not properly synchronized. Deadlocks can be difficult to diagnose and fix, as they require careful coordination between threads to ensure that resources are released in the proper order.\n",
    "\n",
    "2.Race conditions: A race condition occurs when two or more threads access a shared resource concurrently, and the final outcome depends on the timing or order of the thread execution. Race conditions can result in unpredictable program behavior or errors, and can be difficult to reproduce or diagnose. To avoid race conditions, it is important to ensure that shared resources are properly synchronized, so that only one thread can access them at a time. Common synchronization techniques include locks, semaphores, and monitors.\n",
    "\n",
    "In summary, deadlocks and race conditions are both common issues in multithreaded programming that can lead to unpredictable behavior or errors. To avoid these issues, it is important to carefully synchronize access to shared resources and to design programs that can handle situations where multiple threads are attempting to access resources concurrently.\n",
    "\n",
    "\n",
    "\n",
    "\n",
    "\n"
   ]
  }
 ],
 "metadata": {
  "kernelspec": {
   "display_name": "Python 3 (ipykernel)",
   "language": "python",
   "name": "python3"
  },
  "language_info": {
   "codemirror_mode": {
    "name": "ipython",
    "version": 3
   },
   "file_extension": ".py",
   "mimetype": "text/x-python",
   "name": "python",
   "nbconvert_exporter": "python",
   "pygments_lexer": "ipython3",
   "version": "3.10.8"
  }
 },
 "nbformat": 4,
 "nbformat_minor": 5
}
